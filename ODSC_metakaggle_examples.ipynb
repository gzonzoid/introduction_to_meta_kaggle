{
 "cells": [
  {
   "cell_type": "markdown",
   "metadata": {},
   "source": [
    "# Introduction to Meta-Kaggle"
   ]
  },
  {
   "cell_type": "code",
   "execution_count": 7,
   "metadata": {},
   "outputs": [],
   "source": [
    "import pandas as pd\n",
    "import glob"
   ]
  },
  {
   "cell_type": "code",
   "execution_count": 5,
   "metadata": {},
   "outputs": [
    {
     "name": "stdout",
     "output_type": "stream",
     "text": [
      "31 files found\n",
      "['meta-kaggle/KernelVersionDatasetSources.csv', 'meta-kaggle/UserOrganizations.csv', 'meta-kaggle/TeamMemberships.csv', 'meta-kaggle/KernelVersionKernelSources.csv', 'meta-kaggle/Competitions.csv', 'meta-kaggle/KernelVersions.csv', 'meta-kaggle/ForumMessageVotes.csv', 'meta-kaggle/DatasourceObjects.csv', 'meta-kaggle/Teams.csv', 'meta-kaggle/Datasets.csv', 'meta-kaggle/ForumMessages.csv', 'meta-kaggle/KernelTags.csv', 'meta-kaggle/DatasourceVersionObjectTables.csv', 'meta-kaggle/Users.csv', 'meta-kaggle/ForumTopics.csv', 'meta-kaggle/UserAchievements.csv', 'meta-kaggle/Forums.csv', 'meta-kaggle/KernelVersionOutputFiles.csv', 'meta-kaggle/DatasetTags.csv', 'meta-kaggle/Tags.csv', 'meta-kaggle/Submissions.csv', 'meta-kaggle/KernelVersionCompetitionSources.csv', 'meta-kaggle/Organizations.csv', 'meta-kaggle/Kernels.csv', 'meta-kaggle/KernelVotes.csv', 'meta-kaggle/UserFollowers.csv', 'meta-kaggle/DatasetVersions.csv', 'meta-kaggle/KernelLanguages.csv', 'meta-kaggle/Datasources.csv', 'meta-kaggle/DatasetVotes.csv', 'meta-kaggle/CompetitionTags.csv']\n"
     ]
    }
   ],
   "source": [
    "path = 'meta-kaggle/'\n",
    "files = glob.glob(path + '*')\n",
    "print( str(len(files)) + ' files found')\n",
    "print(files)"
   ]
  },
  {
   "cell_type": "code",
   "execution_count": 8,
   "metadata": {},
   "outputs": [
    {
     "name": "stdout",
     "output_type": "stream",
     "text": [
      "(233393, 16)\n"
     ]
    }
   ],
   "source": [
    "kernels = pd.read_csv('meta-kaggle/Kernels.csv')\n",
    "print(kernels.shape)"
   ]
  },
  {
   "cell_type": "code",
   "execution_count": null,
   "metadata": {},
   "outputs": [],
   "source": [
    "## potential examples\n",
    "#   predict number of forum votes based on sentiment of forum post\n",
    "#   predict teams success based on characteristics (previous compeitions, number of submissions, team size, )"
   ]
  }
 ],
 "metadata": {
  "kernelspec": {
   "display_name": "Python 3",
   "language": "python",
   "name": "python3"
  },
  "language_info": {
   "codemirror_mode": {
    "name": "ipython",
    "version": 3
   },
   "file_extension": ".py",
   "mimetype": "text/x-python",
   "name": "python",
   "nbconvert_exporter": "python",
   "pygments_lexer": "ipython3",
   "version": "3.7.1"
  }
 },
 "nbformat": 4,
 "nbformat_minor": 2
}
